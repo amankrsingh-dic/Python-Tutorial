{
 "cells": [
  {
   "cell_type": "markdown",
   "id": "850f7c05",
   "metadata": {},
   "source": [
    "# Web Scraping and APIs in Python\n",
    "\n",
    "Python can extract data from websites (web scraping) and interact with web APIs to retrieve or send data.\n",
    "\n",
    "---\n",
    "\n",
    "## What is Web Scraping?\n",
    "Web scraping is the process of automatically collecting information from web pages. Always check a website's terms of service before scraping.\n",
    "\n",
    "---\n",
    "\n",
    "## Parsing HTML with BeautifulSoup\n",
    "BeautifulSoup makes it easy to navigate and search HTML documents.\n",
    "\n",
    "---\n",
    "\n",
    "## Web Scraping with requests and BeautifulSoup"
   ]
  },
  {
   "cell_type": "code",
   "execution_count": null,
   "id": "599bb772",
   "metadata": {},
   "outputs": [],
   "source": [
    "import requests\n",
    "from bs4 import BeautifulSoup\n",
    "url = \"https://www.example.com\"\n",
    "response = requests.get(url)\n",
    "soup = BeautifulSoup(response.text, \"html.parser\")\n",
    "print(soup.title.text)"
   ]
  },
  {
   "cell_type": "markdown",
   "id": "31680785",
   "metadata": {},
   "source": [
    "## Working with JSON APIs\n",
    "Many APIs return data in JSON format. Use `response.json()` to parse it into Python objects.\n",
    "\n",
    "---\n",
    "\n",
    "## Handling API Authentication\n",
    "Some APIs require authentication (API keys, OAuth, etc.). Always keep your credentials secure.\n",
    "\n",
    "---\n",
    "\n",
    "## Working with APIs"
   ]
  },
  {
   "cell_type": "code",
   "execution_count": null,
   "id": "e5ea67c5",
   "metadata": {},
   "outputs": [],
   "source": [
    "import requests\n",
    "api_url = \"https://api.github.com\"\n",
    "response = requests.get(api_url)\n",
    "print(response.json())"
   ]
  },
  {
   "cell_type": "markdown",
   "id": "61cf25a6",
   "metadata": {},
   "source": [
    "# Practice\n",
    "- Scrape the title of a web page using requests and BeautifulSoup.\n",
    "- Call a public API and print the JSON response.\n",
    "- Try handling errors (e.g., network issues, invalid responses)."
   ]
  }
 ],
 "metadata": {
  "language_info": {
   "name": "python"
  }
 },
 "nbformat": 4,
 "nbformat_minor": 5
}

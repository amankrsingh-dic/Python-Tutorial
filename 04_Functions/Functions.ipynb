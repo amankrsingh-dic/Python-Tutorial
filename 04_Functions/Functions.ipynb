{
 "cells": [
  {
   "cell_type": "markdown",
   "id": "36a6d847",
   "metadata": {},
   "source": [
    "# Python Functions\n",
    "\n",
    "Functions are reusable blocks of code that perform a specific task. They help organize code, avoid repetition, and make programs easier to read and maintain.\n",
    "\n",
    "---\n",
    "\n",
    "## Why Use Functions?\n",
    "- **Reusability:** Write code once and use it many times.\n",
    "- **Organization:** Break complex problems into smaller, manageable pieces.\n",
    "- **Testing:** Functions can be tested independently.\n",
    "- **Readability:** Code is easier to understand and debug.\n",
    "\n",
    "---\n",
    "\n",
    "## Defining a Function\n",
    "Use the `def` keyword to define a function. Functions can take parameters (inputs) and can return values (outputs).\n",
    "\n",
    "**Syntax:**\n",
    "```python\n",
    "def function_name(parameters):\n",
    "    # function body\n",
    "    return value  # optional\n",
    "```"
   ]
  },
  {
   "cell_type": "code",
   "execution_count": null,
   "id": "b4296cd7",
   "metadata": {},
   "outputs": [],
   "source": [
    "def greet(name):\n",
    "    print(f\"Hello, {name}!\")\n",
    "\n",
    "greet(\"Alice\")"
   ]
  },
  {
   "cell_type": "markdown",
   "id": "756cbfd9",
   "metadata": {},
   "source": [
    "## Return Values\n",
    "Functions can return values using the `return` statement. If no return is specified, the function returns `None` by default."
   ]
  },
  {
   "cell_type": "code",
   "execution_count": null,
   "id": "40f27a57",
   "metadata": {},
   "outputs": [],
   "source": [
    "def add(a, b):\n",
    "    return a + b\n",
    "\n",
    "result = add(3, 4)\n",
    "print(result)"
   ]
  },
  {
   "cell_type": "markdown",
   "id": "0cec8efa",
   "metadata": {},
   "source": [
    "## Default Arguments\n",
    "You can provide default values for function parameters. If the argument is not provided, the default is used."
   ]
  },
  {
   "cell_type": "code",
   "execution_count": null,
   "id": "289b043f",
   "metadata": {},
   "outputs": [],
   "source": [
    "def power(base, exponent=2):\n",
    "    return base ** exponent\n",
    "\n",
    "print(power(3))      # 9\n",
    "print(power(3, 3))   # 27"
   ]
  },
  {
   "cell_type": "markdown",
   "id": "60d61908",
   "metadata": {},
   "source": [
    "## Keyword Arguments\n",
    "You can call functions using parameter names, making the order irrelevant."
   ]
  },
  {
   "cell_type": "code",
   "execution_count": null,
   "id": "83f3dbfa",
   "metadata": {},
   "outputs": [],
   "source": [
    "def describe_pet(animal, name):\n",
    "    print(f\"I have a {animal} named {name}.\")\n",
    "\n",
    "describe_pet(name=\"Whiskers\", animal=\"cat\")"
   ]
  },
  {
   "cell_type": "markdown",
   "id": "2612c1bf",
   "metadata": {},
   "source": [
    "## Variable-Length Arguments\n",
    "Use `*args` for any number of positional arguments, and `**kwargs` for any number of keyword arguments."
   ]
  },
  {
   "cell_type": "code",
   "execution_count": null,
   "id": "24fb88d0",
   "metadata": {},
   "outputs": [],
   "source": [
    "def print_args(*args):\n",
    "    for arg in args:\n",
    "        print(arg)\n",
    "\n",
    "print_args(1, 2, 3)\n",
    "\n",
    "def print_kwargs(**kwargs):\n",
    "    for key, value in kwargs.items():\n",
    "        print(f\"{key}: {value}\")\n",
    "\n",
    "print_kwargs(a=1, b=2)"
   ]
  },
  {
   "cell_type": "markdown",
   "id": "cb9a8a45",
   "metadata": {},
   "source": [
    "## Docstrings\n",
    "A docstring is a special string at the start of a function that describes what it does. Use triple quotes for multi-line docstrings."
   ]
  },
  {
   "cell_type": "code",
   "execution_count": null,
   "id": "1dc1521a",
   "metadata": {},
   "outputs": [],
   "source": [
    "def multiply(a, b):\n",
    "    \"\"\"Return the product of a and b.\"\"\"\n",
    "    return a * b\n",
    "\n",
    "help(multiply)"
   ]
  },
  {
   "cell_type": "markdown",
   "id": "39f425e1",
   "metadata": {},
   "source": [
    "# Practice\n",
    "- Write a function that takes a list and returns the sum of its elements.\n",
    "- Write a function with both positional and keyword arguments.\n",
    "- Add a docstring to your function and use `help()` to view it."
   ]
  }
 ],
 "metadata": {
  "language_info": {
   "name": "python"
  }
 },
 "nbformat": 4,
 "nbformat_minor": 5
}

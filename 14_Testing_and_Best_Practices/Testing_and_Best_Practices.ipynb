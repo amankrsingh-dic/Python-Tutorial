{
 "cells": [
  {
   "cell_type": "markdown",
   "id": "0f0c3d04",
   "metadata": {},
   "source": [
    "# Testing and Best Practices in Python\n",
    "\n",
    "Testing ensures your code works as expected and helps prevent bugs. Following best practices makes your code more readable, maintainable, and robust.\n",
    "\n",
    "---\n",
    "\n",
    "## Why Test Your Code?\n",
    "- Catch errors early\n",
    "- Ensure code behaves as intended\n",
    "- Make refactoring safer\n",
    "- Improve code quality\n",
    "\n",
    "---\n",
    "\n",
    "## Types of Tests\n",
    "- **Unit tests:** Test individual functions or classes\n",
    "- **Integration tests:** Test how components work together\n",
    "- **System tests:** Test the complete application\n",
    "\n",
    "---\n",
    "\n",
    "## Writing Tests with unittest\n",
    "The `unittest` module is part of Python's standard library. You can also use `pytest` for more advanced testing.\n"
   ]
  },
  {
   "cell_type": "code",
   "execution_count": null,
   "id": "98e90d3d",
   "metadata": {},
   "outputs": [],
   "source": [
    "import unittest\n",
    "\n",
    "def add(a, b):\n",
    "    return a + b\n",
    "\n",
    "class TestAdd(unittest.TestCase):\n",
    "    def test_add(self):\n",
    "        self.assertEqual(add(2, 3), 5)\n",
    "\n",
    "unittest.main(argv=[''], exit=False)"
   ]
  },
  {
   "cell_type": "markdown",
   "id": "fcdafdfd",
   "metadata": {},
   "source": [
    "---\n",
    "\n",
    "## Test Discovery\n",
    "You can run all tests in a directory using:\n",
    "```zsh\n",
    "python -m unittest discover\n",
    "```\n",
    "\n",
    "---\n",
    "\n",
    "## Best Coding Practices\n",
    "- Use meaningful variable and function names\n",
    "- Write modular, reusable code\n",
    "- Add comments and documentation (docstrings)\n",
    "- Follow the [PEP 8](https://peps.python.org/pep-0008/) style guide\n",
    "- Use version control (e.g., git)\n",
    "- Handle exceptions gracefully\n",
    "- Write tests for critical code paths\n",
    "\n",
    "---\n",
    "\n",
    "# Practice\n",
    "- Write a test for a function you created earlier.\n",
    "- Refactor a piece of code to improve readability and add comments.\n",
    "- Run all tests in your project using unittest or pytest."
   ]
  }
 ],
 "metadata": {
  "language_info": {
   "name": "python"
  }
 },
 "nbformat": 4,
 "nbformat_minor": 5
}

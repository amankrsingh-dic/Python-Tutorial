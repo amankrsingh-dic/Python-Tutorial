{
 "cells": [
  {
   "cell_type": "markdown",
   "id": "5ac2d9d7",
   "metadata": {},
   "source": [
    "# Object-Oriented Programming (OOP) in Python\n",
    "\n",
    "OOP is a programming paradigm based on the concept of objects, which bundle data and behavior. Python supports OOP with classes, inheritance, and more.\n",
    "\n",
    "---\n",
    "\n",
    "## Class vs Object\n",
    "- **Class:** Blueprint for creating objects\n",
    "- **Object:** Instance of a class\n",
    "\n",
    "---\n",
    "\n",
    "## Instance vs Class Variables\n",
    "- **Instance variables:** Unique to each object\n",
    "- **Class variables:** Shared among all objects of the class\n",
    "\n",
    "---\n",
    "\n",
    "## Special Methods\n",
    "Special methods (dunder methods) like `__init__`, `__str__`, and `__repr__` allow customization of class behavior.\n",
    "\n",
    "```python\n",
    "class Car:\n",
    "    def __init__(self, brand):\n",
    "        self.brand = brand\n",
    "    def __str__(self):\n",
    "        return f\"Car: {self.brand}\"\n",
    "\n",
    "mycar = Car(\"Toyota\")\n",
    "print(mycar)\n",
    "```\n",
    "\n",
    "---\n",
    "\n",
    "## Encapsulation, Inheritance, and Polymorphism\n",
    "- **Encapsulation:** Hiding internal details\n",
    "- **Inheritance:** Deriving new classes from existing ones\n",
    "- **Polymorphism:** Using a unified interface for different data types\n",
    "\n",
    "---\n",
    "\n",
    "## Defining a Class"
   ]
  },
  {
   "cell_type": "code",
   "execution_count": null,
   "id": "2512a7ca",
   "metadata": {},
   "outputs": [],
   "source": [
    "class Person:\n",
    "    def __init__(self, name, age):\n",
    "        self.name = name\n",
    "        self.age = age\n",
    "    def greet(self):\n",
    "        print(f\"Hello, my name is {self.name} and I am {self.age} years old.\")\n",
    "\n",
    "p = Person(\"Alice\", 30)\n",
    "p.greet()"
   ]
  },
  {
   "cell_type": "markdown",
   "id": "4121197a",
   "metadata": {},
   "source": [
    "## Inheritance\n",
    "A class can inherit from another class."
   ]
  },
  {
   "cell_type": "code",
   "execution_count": null,
   "id": "04d70ecb",
   "metadata": {},
   "outputs": [],
   "source": [
    "class Student(Person):\n",
    "    def __init__(self, name, age, grade):\n",
    "        super().__init__(name, age)\n",
    "        self.grade = grade\n",
    "    def show_grade(self):\n",
    "        print(f\"Grade: {self.grade}\")\n",
    "\n",
    "s = Student(\"Bob\", 20, \"A\")\n",
    "s.greet()\n",
    "s.show_grade()"
   ]
  },
  {
   "cell_type": "markdown",
   "id": "f9f8254a",
   "metadata": {},
   "source": [
    "# Practice\n",
    "- Add a class variable to the Person class and print it.\n",
    "- Override the `__str__` method in your own class."
   ]
  }
 ],
 "metadata": {
  "language_info": {
   "name": "python"
  }
 },
 "nbformat": 4,
 "nbformat_minor": 5
}

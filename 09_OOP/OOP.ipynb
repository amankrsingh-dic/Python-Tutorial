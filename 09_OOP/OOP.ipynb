{
 "cells": [
  {
   "cell_type": "markdown",
   "id": "5ac2d9d7",
   "metadata": {},
   "source": [
    "# Object-Oriented Programming (OOP) in Python\n",
    "\n",
    "OOP is a programming paradigm based on the concept of objects, which bundle data and behavior. Python supports OOP with classes, inheritance, encapsulation, and polymorphism. OOP helps organize code, model real-world entities, and promote code reuse.\n",
    "\n",
    "---\n",
    "\n",
    "## Class vs Object\n",
    "- **Class:** Blueprint for creating objects (defines properties and behaviors)\n",
    "- **Object:** Instance of a class (actual entity in memory)\n",
    "\n",
    "---\n",
    "\n",
    "## Instance vs Class Variables\n",
    "- **Instance variables:** Unique to each object, defined in `__init__`\n",
    "- **Class variables:** Shared among all objects of the class, defined directly in the class body\n",
    "\n",
    "---\n",
    "\n",
    "## Special Methods\n",
    "Special methods (dunder methods) like `__init__`, `__str__`, and `__repr__` allow customization of class behavior. For example, `__str__` defines how the object is printed.\n",
    "\n",
    "```python\n",
    "class Car:\n",
    "    def __init__(self, brand):\n",
    "        self.brand = brand\n",
    "    def __str__(self):\n",
    "        return f\"Car: {self.brand}\"\n",
    "\n",
    "mycar = Car(\"Toyota\")\n",
    "print(mycar)\n",
    "```\n",
    "\n",
    "---\n",
    "\n",
    "## Encapsulation, Inheritance, and Polymorphism\n",
    "- **Encapsulation:** Hiding internal details and providing public interfaces (use _ or __ for private/protected attributes)\n",
    "- **Inheritance:** Deriving new classes from existing ones to reuse and extend functionality\n",
    "- **Polymorphism:** Using a unified interface for different data types (e.g., method overriding)\n",
    "\n",
    "---\n",
    "\n",
    "## Defining a Class"
   ]
  },
  {
   "cell_type": "code",
   "execution_count": null,
   "id": "2512a7ca",
   "metadata": {},
   "outputs": [],
   "source": [
    "class Person:\n",
    "    species = \"Homo sapiens\"  # class variable\n",
    "    def __init__(self, name, age):\n",
    "        self.name = name\n",
    "        self.age = age\n",
    "    def greet(self):\n",
    "        print(f\"Hello, my name is {self.name} and I am {self.age} years old.\")\n",
    "\n",
    "p = Person(\"Alice\", 30)\n",
    "p.greet()\n",
    "print(\"Species:\", p.species)"
   ]
  },
  {
   "cell_type": "markdown",
   "id": "4121197a",
   "metadata": {},
   "source": [
    "## Inheritance\n",
    "A class can inherit from another class, allowing you to reuse and extend functionality."
   ]
  },
  {
   "cell_type": "code",
   "execution_count": null,
   "id": "04d70ecb",
   "metadata": {},
   "outputs": [],
   "source": [
    "class Student(Person):\n",
    "    def __init__(self, name, age, grade):\n",
    "        super().__init__(name, age)\n",
    "        self.grade = grade\n",
    "    def show_grade(self):\n",
    "        print(f\"Grade: {self.grade}\")\n",
    "\n",
    "s = Student(\"Bob\", 20, \"A\")\n",
    "s.greet()\n",
    "s.show_grade()"
   ]
  },
  {
   "cell_type": "markdown",
   "id": "f9f8254a",
   "metadata": {},
   "source": [
    "# Practice Questions with Solutions\n",
    "\n",
    "## 1. Add a class variable to the Person class and print it."
   ]
  },
  {
   "cell_type": "code",
   "execution_count": null,
   "id": "cd6adae4",
   "metadata": {},
   "outputs": [],
   "source": [
    "class Person:\n",
    "    species = \"Homo sapiens\"  # class variable\n",
    "    def __init__(self, name, age):\n",
    "        self.name = name\n",
    "        self.age = age\n",
    "    def greet(self):\n",
    "        print(f\"Hello, my name is {self.name} and I am {self.age} years old.\")\n",
    "\n",
    "p = Person(\"Alice\", 30)\n",
    "p.greet()\n",
    "print(\"Species:\", p.species)"
   ]
  },
  {
   "cell_type": "markdown",
   "id": "79716d7f",
   "metadata": {},
   "source": [
    "## 2. Override the `__str__` method in your own class."
   ]
  },
  {
   "cell_type": "code",
   "execution_count": null,
   "id": "79767ab5",
   "metadata": {},
   "outputs": [],
   "source": [
    "class Book:\n",
    "    def __init__(self, title, author):\n",
    "        self.title = title\n",
    "        self.author = author\n",
    "    def __str__(self):\n",
    "        return f\"'{self.title}' by {self.author}\"\n",
    "\n",
    "b = Book(\"1984\", \"George Orwell\")\n",
    "print(b)"
   ]
  },
  {
   "cell_type": "markdown",
   "id": "134a7429",
   "metadata": {},
   "source": [
    "## 3. Create a base class `Animal` and a derived class `Dog` that overrides a method."
   ]
  },
  {
   "cell_type": "code",
   "execution_count": null,
   "id": "3fe24816",
   "metadata": {},
   "outputs": [],
   "source": [
    "class Animal:\n",
    "    def speak(self):\n",
    "        print(\"The animal makes a sound.\")\n",
    "\n",
    "class Dog(Animal):\n",
    "    def speak(self):\n",
    "        print(\"Woof!\")\n",
    "\n",
    "pet = Dog()\n",
    "pet.speak()"
   ]
  },
  {
   "cell_type": "markdown",
   "id": "d3924ad8",
   "metadata": {},
   "source": [
    "---\n",
    "\n",
    "# More to Explore\n",
    "- Try using private attributes (prefix with `_` or `__`) and property decorators for encapsulation.\n",
    "- Experiment with multiple inheritance and method resolution order (MRO).\n",
    "- Explore built-in functions like `isinstance()` and `issubclass()` for type checking."
   ]
  }
 ],
 "metadata": {
  "language_info": {
   "name": "python"
  }
 },
 "nbformat": 4,
 "nbformat_minor": 5
}

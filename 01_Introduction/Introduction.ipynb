{
 "cells": [
  {
   "cell_type": "markdown",
   "id": "a2f215bc",
   "metadata": {},
   "source": [
    "# Introduction to Python\n",
    "\n",
    "Welcome to the Python Tutorial series! This notebook introduces Python, its history, features, and how to set up your environment. Each section in this series is modular and self-contained for easy learning.\n",
    "\n",
    "---\n",
    "\n",
    "## What is Python?\n",
    "Python is a high-level, interpreted programming language known for its readability and versatility. It is widely used in web development, data science, automation, artificial intelligence, and more.\n",
    "\n",
    "## Why Learn Python?\n",
    "- Simple, readable syntax\n",
    "- Large standard library\n",
    "- Cross-platform\n",
    "- Strong community support\n",
    "\n",
    "## History\n",
    "- Created by Guido van Rossum in 1991\n",
    "- Named after \"Monty Python's Flying Circus\"\n",
    "\n",
    "---\n",
    "\n",
    "## Setting Up Python\n",
    "1. Download Python from [python.org](https://www.python.org/downloads/)\n",
    "2. Install Jupyter Notebook via pip:\n",
    "   ```bash\n",
    "   pip install notebook\n",
    "   ```\n",
    "3. Launch Jupyter Notebook:\n",
    "   ```bash\n",
    "   jupyter notebook\n",
    "   ```\n",
    "\n",
    "---\n",
    "\n",
    "## Your First Python Program\n",
    "Let's print a message to the screen:"
   ]
  },
  {
   "cell_type": "code",
   "execution_count": null,
   "id": "2c59c71e",
   "metadata": {},
   "outputs": [],
   "source": [
    "print(\"Hello, Python World!\")"
   ]
  },
  {
   "cell_type": "markdown",
   "id": "805c1883",
   "metadata": {},
   "source": [
    "# Exploring Python's Syntax and Interactive Mode\n",
    "\n",
    "Python code can be written in scripts or run interactively. The interactive mode is great for quick tests and learning.\n",
    "\n",
    "---\n",
    "\n",
    "## Interactive Python\n",
    "To start the interactive shell, type `python` or `python3` in your terminal:\n",
    "\n",
    "```\n",
    "$ python3\n",
    ">>> print(\"Hello from interactive mode!\")\n",
    "Hello from interactive mode!\n",
    "```\n",
    "\n",
    "---\n",
    "\n",
    "# Comments in Python\n",
    "Comments are ignored by the interpreter and are used to explain code.\n",
    "- Single-line comments start with `#`\n",
    "- Multi-line comments can be written using triple quotes (`'''` or `\"\"\"`)"
   ]
  },
  {
   "cell_type": "code",
   "execution_count": null,
   "id": "b08fe699",
   "metadata": {},
   "outputs": [],
   "source": [
    "# This is a single-line comment\n",
    "print(\"This line will run.\")\n",
    "\n",
    "'''\n",
    "This is a multi-line comment.\n",
    "It can span several lines.\n",
    "'''\n",
    "print(\"Multi-line comments are ignored.\")"
   ]
  },
  {
   "cell_type": "markdown",
   "id": "fa7f04c3",
   "metadata": {},
   "source": [
    "# Next Steps\n",
    "\n",
    "Continue to the next notebook to learn about variables and data types in Python."
   ]
  }
 ],
 "metadata": {
  "language_info": {
   "name": "python"
  }
 },
 "nbformat": 4,
 "nbformat_minor": 5
}

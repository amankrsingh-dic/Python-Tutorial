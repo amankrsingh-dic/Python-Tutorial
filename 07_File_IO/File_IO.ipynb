{
 "cells": [
  {
   "cell_type": "markdown",
   "id": "424b4d44",
   "metadata": {},
   "source": [
    "# Python File I/O\n",
    "\n",
    "File I/O (Input/Output) allows you to read from and write to files. This is essential for data persistence and working with external data sources.\n",
    "\n",
    "---\n",
    "\n",
    "## File Modes\n",
    "- `'r'`: Read (default)\n",
    "- `'w'`: Write (creates or overwrites)\n",
    "- `'a'`: Append (adds to end)\n",
    "- `'b'`: Binary mode (e.g., `'rb'`)\n",
    "\n",
    "---\n",
    "\n",
    "## Writing to a File"
   ]
  },
  {
   "cell_type": "code",
   "execution_count": null,
   "id": "9c755600",
   "metadata": {},
   "outputs": [],
   "source": [
    "with open(\"example.txt\", \"w\") as f:\n",
    "    f.write(\"Hello, file!\\n\")"
   ]
  },
  {
   "cell_type": "markdown",
   "id": "fba8f159",
   "metadata": {},
   "source": [
    "## Reading from a File"
   ]
  },
  {
   "cell_type": "code",
   "execution_count": null,
   "id": "617c8274",
   "metadata": {},
   "outputs": [],
   "source": [
    "with open(\"example.txt\", \"r\") as f:\n",
    "    content = f.read()\n",
    "    print(content)"
   ]
  },
  {
   "cell_type": "markdown",
   "id": "0096af9e",
   "metadata": {},
   "source": [
    "## Appending to a File"
   ]
  },
  {
   "cell_type": "code",
   "execution_count": null,
   "id": "40efcb07",
   "metadata": {},
   "outputs": [],
   "source": [
    "with open(\"example.txt\", \"a\") as f:\n",
    "    f.write(\"Another line.\\n\")"
   ]
  },
  {
   "cell_type": "markdown",
   "id": "d5ae661f",
   "metadata": {},
   "source": [
    "## Reading Files Line by Line\n",
    "Use a loop to read files line by line:\n",
    "```python\n",
    "with open(\"example.txt\", \"r\") as f:\n",
    "    for line in f:\n",
    "        print(line.strip())\n",
    "```\n",
    "\n",
    "---\n",
    "\n",
    "## Writing Multiple Lines\n",
    "You can write a list of lines using `writelines()`:\n",
    "```python\n",
    "lines = [\"First line\\n\", \"Second line\\n\"]\n",
    "with open(\"example.txt\", \"w\") as f:\n",
    "    f.writelines(lines)\n",
    "```\n",
    "\n",
    "---\n",
    "\n",
    "## Handling File Exceptions\n",
    "Always handle exceptions when working with files to avoid crashes.\n",
    "\n",
    "---\n",
    "\n",
    "# Practice\n",
    "- Write a program to read a file and count the number of lines.\n",
    "- Write a program to append user input to a file."
   ]
  }
 ],
 "metadata": {
  "language_info": {
   "name": "python"
  }
 },
 "nbformat": 4,
 "nbformat_minor": 5
}

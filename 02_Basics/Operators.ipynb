{
 "cells": [
  {
   "cell_type": "markdown",
   "id": "b6ff4c35",
   "metadata": {},
   "source": [
    "# Python Operators\n",
    "\n",
    "Operators are special symbols that perform operations on variables and values. They are essential for calculations, comparisons, and logic in Python programs.\n",
    "\n",
    "---\n",
    "\n",
    "## Types of Operators\n",
    "- **Arithmetic Operators:** Perform mathematical operations\n",
    "- **Comparison Operators:** Compare values and return boolean results\n",
    "- **Logical Operators:** Combine boolean expressions\n",
    "- **Assignment Operators:** Assign values to variables\n",
    "- **Bitwise Operators:** Work on binary representations\n",
    "\n",
    "---\n",
    "\n",
    "## Operator Precedence\n",
    "Python evaluates expressions based on operator precedence (order of operations). For example, multiplication and division are performed before addition and subtraction.\n",
    "\n",
    "---\n",
    "\n",
    "## Arithmetic Operators\n",
    "- `+` Addition: Adds two values\n",
    "- `-` Subtraction: Subtracts right from left\n",
    "- `*` Multiplication: Multiplies two values\n",
    "- `/` Division: Divides left by right (float result)\n",
    "- `//` Floor Division: Divides and rounds down\n",
    "- `%` Modulus: Remainder of division\n",
    "- `**` Exponentiation: Power operation"
   ]
  },
  {
   "cell_type": "code",
   "execution_count": null,
   "id": "f198f290",
   "metadata": {},
   "outputs": [
    {
     "name": "stdout",
     "output_type": "stream",
     "text": [
      "13\n",
      "7\n",
      "30\n",
      "3.3333333333333335\n",
      "3\n",
      "1\n",
      "1000\n"
     ]
    }
   ],
   "source": [
    "a = 10\n",
    "b = 3\n",
    "print(\"a + b =\", a + b)  # Addition\n",
    "print(\"a - b =\", a - b)  # Subtraction\n",
    "print(\"a * b =\", a * b)  # Multiplication\n",
    "print(\"a / b =\", a / b)  # Division\n",
    "print(\"a // b =\", a // b) # Floor Division\n",
    "print(\"a % b =\", a % b)  # Modulus\n",
    "print(\"a ** b =\", a ** b) # Exponentiation"
   ]
  },
  {
   "cell_type": "markdown",
   "id": "b1c8f50e",
   "metadata": {},
   "source": [
    "## Comparison Operators\n",
    "- `==` Equal to\n",
    "- `!=` Not equal to\n",
    "- `>` Greater than\n",
    "- `<` Less than\n",
    "- `>=` Greater than or equal to\n",
    "- `<=` Less than or equal to\n",
    "\n",
    "These operators return a boolean value (`True` or `False`).\n",
    "\n",
    "---\n",
    "\n",
    "## Chaining Comparisons\n",
    "Python allows chaining of comparison operators for concise expressions:\n",
    "```python\n",
    "x = 5\n",
    "y = 10\n",
    "print(1 < x < y < 20)  # True\n",
    "```"
   ]
  },
  {
   "cell_type": "code",
   "execution_count": null,
   "id": "c82c6d83",
   "metadata": {},
   "outputs": [],
   "source": [
    "print(\"a == b:\", a == b)\n",
    "print(\"a != b:\", a != b)\n",
    "print(\"a > b:\", a > b)\n",
    "print(\"a < b:\", a < b)\n",
    "print(\"a >= b:\", a >= b)\n",
    "print(\"a <= b:\", a <= b)"
   ]
  },
  {
   "cell_type": "markdown",
   "id": "f8863887",
   "metadata": {},
   "source": [
    "## Logical Operators\n",
    "- `and`: True if both operands are true\n",
    "- `or`: True if at least one operand is true\n",
    "- `not`: Inverts the boolean value\n",
    "\n",
    "Logical operators are often used to combine comparison results."
   ]
  },
  {
   "cell_type": "code",
   "execution_count": null,
   "id": "f64846fb",
   "metadata": {},
   "outputs": [],
   "source": [
    "x = True\n",
    "y = False\n",
    "print(\"x and y:\", x and y)\n",
    "print(\"x or y:\", x or y)\n",
    "print(\"not x:\", not x)"
   ]
  },
  {
   "cell_type": "markdown",
   "id": "dcf244e3",
   "metadata": {},
   "source": [
    "## Assignment Operators\n",
    "- `=` Assign value\n",
    "- `+=` Add and assign\n",
    "- `-=` Subtract and assign\n",
    "- `*=` Multiply and assign\n",
    "- `/=` Divide and assign\n",
    "\n",
    "Example:"
   ]
  },
  {
   "cell_type": "code",
   "execution_count": null,
   "id": "20ff6387",
   "metadata": {},
   "outputs": [],
   "source": [
    "c = 5\n",
    "c += 2  # Same as c = c + 2\n",
    "print(\"c after += 2:\", c)\n",
    "c *= 3  # Same as c = c * 3\n",
    "print(\"c after *= 3:\", c)"
   ]
  },
  {
   "cell_type": "markdown",
   "id": "81c12c05",
   "metadata": {},
   "source": [
    "## Bitwise Operators\n",
    "- `&` AND\n",
    "- `|` OR\n",
    "- `^` XOR\n",
    "- `~` NOT\n",
    "- `<<` Left shift\n",
    "- `>>` Right shift\n",
    "\n",
    "These are used for operations on binary numbers."
   ]
  },
  {
   "cell_type": "code",
   "execution_count": null,
   "id": "8c821bd1",
   "metadata": {},
   "outputs": [],
   "source": [
    "print(\"a & b:\", a & b)\n",
    "print(\"a | b:\", a | b)\n",
    "print(\"a ^ b:\", a ^ b)\n",
    "print(\"~a:\", ~a)\n",
    "print(\"a << 1:\", a << 1)\n",
    "print(\"a >> 1:\", a >> 1)"
   ]
  },
  {
   "cell_type": "markdown",
   "id": "c43eeb81",
   "metadata": {},
   "source": [
    "# Practice\n",
    "- Try combining different types of operators in a single expression.\n",
    "- Experiment with operator precedence and chaining."
   ]
  }
 ],
 "metadata": {
  "kernelspec": {
   "display_name": "Python 3",
   "language": "python",
   "name": "python3"
  },
  "language_info": {
   "codemirror_mode": {
    "name": "ipython",
    "version": 3
   },
   "file_extension": ".py",
   "mimetype": "text/x-python",
   "name": "python",
   "nbconvert_exporter": "python",
   "pygments_lexer": "ipython3",
   "version": "3.12.7"
  }
 },
 "nbformat": 4,
 "nbformat_minor": 5
}

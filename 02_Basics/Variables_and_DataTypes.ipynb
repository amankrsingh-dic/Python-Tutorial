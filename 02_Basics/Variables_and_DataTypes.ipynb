{
 "cells": [
  {
   "cell_type": "markdown",
   "id": "c5767f42",
   "metadata": {},
   "source": [
    "# Python Variables and Data Types\n",
    "\n",
    "Variables are used to store data in memory. Python is dynamically typed, so you do not need to declare the type of a variable before using it. The type is inferred at runtime.\n",
    "\n",
    "---\n",
    "\n",
    "## Variable Naming Rules\n",
    "- Must start with a letter or underscore (_)\n",
    "- Can contain letters, numbers, and underscores\n",
    "- Case-sensitive (`myVar` and `myvar` are different)\n",
    "- Avoid using Python reserved keywords (like `for`, `if`, `class`)\n",
    "\n",
    "---\n",
    "\n",
    "## Common Data Types\n",
    "- `int`: Integer numbers (e.g., 5, -3)\n",
    "- `float`: Decimal numbers (e.g., 3.14, -0.5)\n",
    "- `str`: Strings (e.g., \"hello\")\n",
    "- `bool`: Boolean values (`True` or `False`)\n",
    "- `NoneType`: Represents the absence of a value\n",
    "\n",
    "---\n",
    "\n",
    "## Type Checking and Conversion\n",
    "Use `type()` to check a variable's type. Convert between types using `int()`, `float()`, `str()`, and `bool()`."
   ]
  },
  {
   "cell_type": "code",
   "execution_count": null,
   "id": "7e131c11",
   "metadata": {},
   "outputs": [],
   "source": [
    "x = 5\n",
    "name = \"Alice\"\n",
    "pi = 3.14\n",
    "is_valid = True\n",
    "\n",
    "print(type(x))\n",
    "print(type(name))\n",
    "print(type(pi))\n",
    "print(type(is_valid))\n",
    "\n",
    "# Type conversion\n",
    "print(int(pi))\n",
    "print(str(x))\n",
    "print(float(\"2.5\"))"
   ]
  },
  {
   "cell_type": "markdown",
   "id": "250bb222",
   "metadata": {},
   "source": [
    "## Mutable vs Immutable Types\n",
    "- **Mutable:** Can be changed after creation (e.g., lists, dictionaries)\n",
    "- **Immutable:** Cannot be changed after creation (e.g., int, float, str, tuple)\n",
    "\n",
    "---\n",
    "\n",
    "# Practice\n",
    "- Create variables of different types and print their types.\n",
    "- Try converting between types and observe the results."
   ]
  }
 ],
 "metadata": {
  "language_info": {
   "name": "python"
  }
 },
 "nbformat": 4,
 "nbformat_minor": 5
}

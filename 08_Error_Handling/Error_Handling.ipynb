{
 "cells": [
  {
   "cell_type": "markdown",
   "id": "c945c511",
   "metadata": {},
   "source": [
    "# Python Error Handling\n",
    "\n",
    "Error handling lets you manage exceptions and prevent your program from crashing. Python uses `try`, `except`, `else`, and `finally` blocks for error handling.\n",
    "\n",
    "---\n",
    "\n",
    "## Common Exception Types\n",
    "- `ZeroDivisionError`: Division by zero\n",
    "- `ValueError`: Invalid value\n",
    "- `TypeError`: Wrong data type\n",
    "- `FileNotFoundError`: File does not exist\n",
    "\n",
    "---\n",
    "\n",
    "## Try-Except Block"
   ]
  },
  {
   "cell_type": "code",
   "execution_count": null,
   "id": "d84a8759",
   "metadata": {},
   "outputs": [],
   "source": [
    "try:\n",
    "    x = 1 / 0\n",
    "except ZeroDivisionError:\n",
    "    print(\"Cannot divide by zero!\")"
   ]
  },
  {
   "cell_type": "markdown",
   "id": "83c9deaa",
   "metadata": {},
   "source": [
    "## Catching Multiple Exceptions"
   ]
  },
  {
   "cell_type": "code",
   "execution_count": null,
   "id": "78b81af1",
   "metadata": {},
   "outputs": [],
   "source": [
    "try:\n",
    "    value = int(\"abc\")\n",
    "except (ValueError, TypeError):\n",
    "    print(\"Invalid conversion!\")"
   ]
  },
  {
   "cell_type": "markdown",
   "id": "bf9802e4",
   "metadata": {},
   "source": [
    "## Finally Block"
   ]
  },
  {
   "cell_type": "code",
   "execution_count": null,
   "id": "deb978e2",
   "metadata": {},
   "outputs": [],
   "source": [
    "try:\n",
    "    f = open(\"file.txt\")\n",
    "except FileNotFoundError:\n",
    "    print(\"File not found!\")\n",
    "finally:\n",
    "    print(\"This always runs.\")"
   ]
  },
  {
   "cell_type": "markdown",
   "id": "884aeff4",
   "metadata": {},
   "source": [
    "## Raising Exceptions\n",
    "You can raise exceptions manually using the `raise` keyword:\n",
    "```python\n",
    "raise ValueError(\"Invalid input!\")\n",
    "```\n",
    "\n",
    "---\n",
    "\n",
    "## Custom Exceptions\n",
    "Define your own exception classes by inheriting from `Exception`:\n",
    "```python\n",
    "class MyError(Exception):\n",
    "    pass\n",
    "```\n",
    "\n",
    "---\n",
    "\n",
    "# Practice\n",
    "- Write a function that handles division and catches division by zero.\n",
    "- Create and raise a custom exception."
   ]
  }
 ],
 "metadata": {
  "language_info": {
   "name": "python"
  }
 },
 "nbformat": 4,
 "nbformat_minor": 5
}

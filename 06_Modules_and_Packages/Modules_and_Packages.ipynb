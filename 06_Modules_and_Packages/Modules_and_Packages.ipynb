{
 "cells": [
  {
   "cell_type": "markdown",
   "id": "2ece8493",
   "metadata": {},
   "source": [
    "# Python Modules and Packages\n",
    "\n",
    "Modules and packages help organize code into reusable components. A module is a single Python file, while a package is a directory containing multiple modules and an `__init__.py` file.\n",
    "\n",
    "---\n",
    "\n",
    "## Standard Library Modules\n",
    "Python comes with a rich standard library. Some useful modules:\n",
    "- `os`: Operating system interfaces\n",
    "- `sys`: System-specific parameters\n",
    "- `random`: Random number generation\n",
    "- `datetime`: Date and time manipulation\n",
    "\n",
    "---\n",
    "\n",
    "## Importing Modules\n",
    "Use the `import` statement:"
   ]
  },
  {
   "cell_type": "code",
   "execution_count": null,
   "id": "6bda57d9",
   "metadata": {},
   "outputs": [],
   "source": [
    "import math\n",
    "print(math.sqrt(16))"
   ]
  },
  {
   "cell_type": "markdown",
   "id": "2ea515f6",
   "metadata": {},
   "source": [
    "## Importing Specific Functions"
   ]
  },
  {
   "cell_type": "code",
   "execution_count": null,
   "id": "dda94981",
   "metadata": {},
   "outputs": [],
   "source": [
    "from math import pi, sin\n",
    "print(pi)\n",
    "print(sin(0))"
   ]
  },
  {
   "cell_type": "markdown",
   "id": "2f941bba",
   "metadata": {},
   "source": [
    "## Importing with Aliases\n",
    "You can import modules with an alias for convenience:\n",
    "```python\n",
    "import numpy as np\n",
    "```\n",
    "\n",
    "---\n",
    "\n",
    "## Exploring Module Contents\n",
    "Use `dir(module)` to list available functions and attributes.\n",
    "\n",
    "---\n",
    "\n",
    "## Creating Your Own Module\n",
    "Create a file named `mymodule.py`:\n",
    "```python\n",
    "# mymodule.py\n",
    "def greet(name):\n",
    "    print(f\"Hello, {name}!\")\n",
    "```\n",
    "Then import and use it:"
   ]
  },
  {
   "cell_type": "code",
   "execution_count": null,
   "id": "2de3aaba",
   "metadata": {},
   "outputs": [],
   "source": [
    "import mymodule\n",
    "greet(\"World\")"
   ]
  },
  {
   "cell_type": "markdown",
   "id": "e9f695eb",
   "metadata": {},
   "source": [
    "# Practice\n",
    "- Import the `math` module and use `math.factorial()`.\n",
    "- Create your own module and import it in another script."
   ]
  }
 ],
 "metadata": {
  "language_info": {
   "name": "python"
  }
 },
 "nbformat": 4,
 "nbformat_minor": 5
}

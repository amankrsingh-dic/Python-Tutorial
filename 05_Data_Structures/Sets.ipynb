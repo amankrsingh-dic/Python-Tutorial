{
 "cells": [
  {
   "cell_type": "markdown",
   "id": "3e2fa4a7",
   "metadata": {},
   "source": [
    "# Python Sets\n",
    "\n",
    "Sets are unordered collections of unique elements. They are useful for membership tests, removing duplicates, and set operations like union and intersection.\n",
    "\n",
    "---\n",
    "\n",
    "## Creating a Set"
   ]
  },
  {
   "cell_type": "code",
   "execution_count": null,
   "id": "f764bd1d",
   "metadata": {},
   "outputs": [],
   "source": [
    "fruits = {\"apple\", \"banana\", \"cherry\"}\n",
    "print(fruits)"
   ]
  },
  {
   "cell_type": "markdown",
   "id": "cdaf36f3",
   "metadata": {},
   "source": [
    "## Creating Empty Sets\n",
    "Use `set()` to create an empty set. `{}` creates an empty dictionary, not a set.\n",
    "\n",
    "---\n",
    "\n",
    "## Set Membership\n",
    "Check if an item is in a set using the `in` keyword.\n",
    "\n",
    "```python\n",
    "fruits = {\"apple\", \"banana\", \"cherry\"}\n",
    "print(\"apple\" in fruits)  # True\n",
    "```\n",
    "\n",
    "---\n",
    "\n",
    "## Set Operations\n",
    "- `add()`, `remove()`, `union()`, `intersection()`, `difference()`\n",
    "\n",
    "---\n",
    "\n",
    "## Set Operations Explained\n",
    "- **Union:** Combines all unique elements from both sets\n",
    "- **Intersection:** Elements common to both sets\n",
    "- **Difference:** Elements in one set but not the other"
   ]
  },
  {
   "cell_type": "code",
   "execution_count": null,
   "id": "fca23eea",
   "metadata": {},
   "outputs": [],
   "source": [
    "fruits.add(\"orange\")\n",
    "fruits.remove(\"banana\")\n",
    "print(fruits)\n",
    "\n",
    "set1 = {1, 2, 3}\n",
    "set2 = {3, 4, 5}\n",
    "print(set1.union(set2))\n",
    "print(set1.intersection(set2))\n",
    "print(set1.difference(set2))"
   ]
  },
  {
   "cell_type": "markdown",
   "id": "f74a49cf",
   "metadata": {},
   "source": [
    "# Practice\n",
    "- Create a set from a list with duplicate values and print it.\n",
    "- Check membership of an element in a set.\n",
    "- Perform union and intersection on two sets."
   ]
  }
 ],
 "metadata": {
  "language_info": {
   "name": "python"
  }
 },
 "nbformat": 4,
 "nbformat_minor": 5
}

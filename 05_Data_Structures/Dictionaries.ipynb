{
 "cells": [
  {
   "cell_type": "markdown",
   "id": "4d1b89e9",
   "metadata": {},
   "source": [
    "# Python Dictionaries\n",
    "\n",
    "Dictionaries are unordered collections of key-value pairs. They are mutable and very efficient for lookups, insertions, and deletions.\n",
    "\n",
    "---\n",
    "\n",
    "## Accessing Keys and Values\n",
    "- Use `dict[key]` to access a value\n",
    "- Use `dict.get(key)` to avoid errors if the key is missing\n",
    "\n",
    "---\n",
    "\n",
    "## Creating a Dictionary"
   ]
  },
  {
   "cell_type": "code",
   "execution_count": null,
   "id": "21c332f9",
   "metadata": {},
   "outputs": [],
   "source": [
    "student = {\"name\": \"Alice\", \"age\": 20, \"grade\": \"A\"}\n",
    "print(student)"
   ]
  },
  {
   "cell_type": "markdown",
   "id": "851a4d54",
   "metadata": {},
   "source": [
    "## Accessing and Modifying Dictionaries"
   ]
  },
  {
   "cell_type": "code",
   "execution_count": null,
   "id": "67fd796f",
   "metadata": {},
   "outputs": [],
   "source": [
    "print(student[\"name\"])\n",
    "student[\"age\"] = 21\n",
    "print(student)"
   ]
  },
  {
   "cell_type": "markdown",
   "id": "71c3a669",
   "metadata": {},
   "source": [
    "## Dictionary Methods\n",
    "- `keys()`, `values()`, `items()`, `get()`, `update()`"
   ]
  },
  {
   "cell_type": "code",
   "execution_count": null,
   "id": "6987273b",
   "metadata": {},
   "outputs": [],
   "source": [
    "print(student.keys())\n",
    "print(student.values())\n",
    "student.update({\"grade\": \"A+\"})\n",
    "print(student)"
   ]
  },
  {
   "cell_type": "markdown",
   "id": "86039ecd",
   "metadata": {},
   "source": [
    "---\n",
    "\n",
    "## Iterating Over Dictionaries\n",
    "You can loop through keys, values, or both:\n",
    "\n",
    "```python\n",
    "for key in student:\n",
    "    print(key, student[key])\n",
    "\n",
    "for value in student.values():\n",
    "    print(value)\n",
    "\n",
    "for key, value in student.items():\n",
    "    print(key, value)\n",
    "```\n",
    "\n",
    "---\n",
    "\n",
    "## Dictionary Comprehensions\n",
    "Create dictionaries using a concise syntax:\n",
    "\n",
    "```python\n",
    "squares = {x: x**2 for x in range(5)}\n",
    "print(squares)\n",
    "```\n",
    "\n",
    "---\n",
    "\n",
    "# Practice\n",
    "- Create a dictionary for a book (title, author, year) and print each key-value pair.\n",
    "- Use a dictionary comprehension to map numbers to their cubes."
   ]
  }
 ],
 "metadata": {
  "language_info": {
   "name": "python"
  }
 },
 "nbformat": 4,
 "nbformat_minor": 5
}

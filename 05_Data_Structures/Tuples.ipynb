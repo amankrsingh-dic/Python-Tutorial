{
 "cells": [
  {
   "cell_type": "markdown",
   "id": "e9bde907",
   "metadata": {},
   "source": [
    "# Python Tuples\n",
    "\n",
    "Tuples are ordered, immutable collections. Once created, their values cannot be changed. Tuples are useful for grouping related data.\n",
    "\n",
    "---\n",
    "\n",
    "## Tuple Packing and Unpacking\n",
    "You can assign multiple values to a tuple and extract them easily.\n",
    "\n",
    "```python\n",
    "point = (3, 4)\n",
    "x, y = point  # Unpacking\n",
    "print(x, y)\n",
    "```\n",
    "\n",
    "---\n",
    "\n",
    "## Single-Element Tuples\n",
    "To create a tuple with one element, add a comma: `t = (5,)`\n",
    "\n",
    "---\n",
    "\n",
    "## When to Use Tuples\n",
    "- When you want to ensure data cannot be changed\n",
    "- As keys in dictionaries (if all elements are immutable)\n",
    "\n",
    "---\n",
    "\n",
    "# Practice\n",
    "- Create a tuple with three elements and unpack it into variables.\n",
    "- Try creating a single-element tuple and check its type."
   ]
  },
  {
   "cell_type": "code",
   "execution_count": null,
   "id": "cedfb701",
   "metadata": {},
   "outputs": [],
   "source": [
    "point = (10, 20)\n",
    "colors = (\"red\", \"green\", \"blue\")"
   ]
  },
  {
   "cell_type": "markdown",
   "id": "59854b18",
   "metadata": {},
   "source": [
    "## Accessing Tuple Elements"
   ]
  },
  {
   "cell_type": "code",
   "execution_count": null,
   "id": "48ee0a96",
   "metadata": {},
   "outputs": [],
   "source": [
    "print(point[0])\n",
    "print(colors[1])"
   ]
  }
 ],
 "metadata": {
  "language_info": {
   "name": "python"
  }
 },
 "nbformat": 4,
 "nbformat_minor": 5
}

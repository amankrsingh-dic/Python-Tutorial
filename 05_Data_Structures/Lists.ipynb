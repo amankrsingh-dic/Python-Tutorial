{
 "cells": [
  {
   "cell_type": "markdown",
   "id": "cc7dbde1",
   "metadata": {},
   "source": [
    "# Python Lists\n",
    "\n",
    "Lists are one of the most versatile and commonly used data structures in Python. They are ordered, mutable, and can contain elements of different types.\n",
    "\n",
    "---\n",
    "\n",
    "## List Indexing and Slicing\n",
    "- Access elements by index (starting from 0)\n",
    "- Use negative indices to access from the end\n",
    "- Slice lists to get sublists: `mylist[start:end]`\n",
    "\n",
    "```python\n",
    "numbers = [10, 20, 30, 40, 50]\n",
    "print(numbers[1:4])  # [20, 30, 40]\n",
    "```\n",
    "\n",
    "---\n",
    "\n",
    "## Creating a List"
   ]
  },
  {
   "cell_type": "code",
   "execution_count": null,
   "id": "0fe8f604",
   "metadata": {},
   "outputs": [],
   "source": [
    "numbers = [1, 2, 3, 4, 5]\n",
    "names = [\"Alice\", \"Bob\", \"Charlie\"]\n",
    "mixed = [1, \"two\", 3.0, True]"
   ]
  },
  {
   "cell_type": "markdown",
   "id": "f1e3e210",
   "metadata": {},
   "source": [
    "## Accessing and Modifying Lists"
   ]
  },
  {
   "cell_type": "code",
   "execution_count": null,
   "id": "7116a51f",
   "metadata": {},
   "outputs": [],
   "source": [
    "print(numbers[0])      # First element\n",
    "numbers[1] = 20        # Change value\n",
    "print(numbers)"
   ]
  },
  {
   "cell_type": "markdown",
   "id": "309a7cb5",
   "metadata": {},
   "source": [
    "## List Methods\n",
    "- `append()`, `remove()`, `pop()`, `sort()`, `reverse()`"
   ]
  },
  {
   "cell_type": "code",
   "execution_count": null,
   "id": "01e4f4be",
   "metadata": {},
   "outputs": [],
   "source": [
    "numbers.append(6)\n",
    "numbers.remove(3)\n",
    "print(numbers)"
   ]
  },
  {
   "cell_type": "markdown",
   "id": "31bc8d44",
   "metadata": {},
   "source": [
    "## List Comprehensions\n",
    "A concise way to create lists using a single line of code.\n",
    "\n",
    "```python\n",
    "squares = [x**2 for x in range(5)]\n",
    "print(squares)\n",
    "```\n",
    "\n",
    "---\n",
    "\n",
    "## Copying Lists\n",
    "Use `list.copy()` or slicing to copy a list. Assignment creates a reference, not a copy.\n",
    "\n",
    "---\n",
    "\n",
    "# Practice\n",
    "- Create a list of your favorite fruits and print the first and last item.\n",
    "- Use a list comprehension to create a list of even numbers from 1 to 20.\n",
    "- Try copying a list and modifying the copy."
   ]
  }
 ],
 "metadata": {
  "language_info": {
   "name": "python"
  }
 },
 "nbformat": 4,
 "nbformat_minor": 5
}

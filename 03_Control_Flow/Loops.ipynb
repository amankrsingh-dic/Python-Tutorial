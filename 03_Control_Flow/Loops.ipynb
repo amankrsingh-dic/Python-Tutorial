{
 "cells": [
  {
   "cell_type": "markdown",
   "id": "52a765cf",
   "metadata": {},
   "source": [
    "# Python Control Flow: Loops\n",
    "\n",
    "Loops are used to repeat a block of code multiple times. Python supports two main types of loops: `for` and `while`.\n",
    "\n",
    "---\n",
    "\n",
    "## Looping Over Different Data Types\n",
    "You can use `for` loops to iterate over lists, strings, tuples, and more.\n",
    "\n",
    "```python\n",
    "for char in \"hello\":\n",
    "    print(char)\n",
    "```\n",
    "\n",
    "---\n",
    "\n",
    "## The `range()` Function\n",
    "`range()` generates a sequence of numbers, often used in for loops.\n",
    "\n",
    "```python\n",
    "for i in range(1, 6):\n",
    "    print(i)\n",
    "```\n",
    "\n",
    "---\n",
    "\n",
    "## The `else` Clause with Loops\n",
    "You can use `else` with loops. The `else` block runs if the loop completes without a `break`.\n",
    "\n",
    "```python\n",
    "for i in range(3):\n",
    "    print(i)\n",
    "else:\n",
    "    print(\"Loop finished!\")\n",
    "```\n",
    "\n",
    "---\n",
    "\n",
    "# Practice\n",
    "- Write a loop to sum all numbers in a list.\n",
    "- Use a while loop to count down from 5 to 1.\n",
    "- Try using `else` with a loop and observe the behavior."
   ]
  }
 ],
 "metadata": {
  "language_info": {
   "name": "python"
  }
 },
 "nbformat": 4,
 "nbformat_minor": 5
}

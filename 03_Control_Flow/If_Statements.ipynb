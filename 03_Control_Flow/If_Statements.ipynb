{
 "cells": [
  {
   "cell_type": "markdown",
   "id": "d33c8404",
   "metadata": {},
   "source": [
    "# Python Control Flow: If Statements\n",
    "\n",
    "Control flow statements allow you to make decisions and execute code conditionally. The `if` statement is the most basic form of decision-making in Python.\n",
    "\n",
    "---\n",
    "\n",
    "## Indentation\n",
    "Python uses indentation (spaces or tabs) to define blocks of code. All code within the same block must be indented equally.\n",
    "\n",
    "---\n",
    "\n",
    "## Basic If Statement"
   ]
  },
  {
   "cell_type": "code",
   "execution_count": null,
   "id": "fcff115e",
   "metadata": {},
   "outputs": [],
   "source": [
    "x = 10\n",
    "if x > 5:\n",
    "    print(\"x is greater than 5\")"
   ]
  },
  {
   "cell_type": "markdown",
   "id": "28ab8131",
   "metadata": {},
   "source": [
    "## If-Else Statement"
   ]
  },
  {
   "cell_type": "code",
   "execution_count": null,
   "id": "93e91356",
   "metadata": {},
   "outputs": [],
   "source": [
    "if x % 2 == 0:\n",
    "    print(\"x is even\")\n",
    "else:\n",
    "    print(\"x is odd\")"
   ]
  },
  {
   "cell_type": "markdown",
   "id": "b838d81a",
   "metadata": {},
   "source": [
    "## Elif (Else If)"
   ]
  },
  {
   "cell_type": "code",
   "execution_count": null,
   "id": "8b2d2834",
   "metadata": {},
   "outputs": [],
   "source": [
    "age = 18\n",
    "if age < 13:\n",
    "    print(\"Child\")\n",
    "elif age < 20:\n",
    "    print(\"Teenager\")\n",
    "else:\n",
    "    print(\"Adult\")"
   ]
  },
  {
   "cell_type": "markdown",
   "id": "ddb96564",
   "metadata": {},
   "source": [
    "## Nested If Statements\n",
    "You can nest if statements inside each other for more complex logic.\n",
    "\n",
    "```python\n",
    "x = 15\n",
    "if x > 10:\n",
    "    print(\"x is greater than 10\")\n",
    "    if x > 20:\n",
    "        print(\"x is also greater than 20\")\n",
    "    else:\n",
    "        print(\"x is not greater than 20\")\n",
    "```\n",
    "\n",
    "---\n",
    "\n",
    "## The `pass` Statement\n",
    "Use `pass` as a placeholder for future code.\n",
    "\n",
    "```python\n",
    "if False:\n",
    "    pass  # Do nothing\n",
    "```\n",
    "\n",
    "---\n",
    "\n",
    "# Practice\n",
    "- Write an if-elif-else chain for grading (A, B, C, D, F).\n",
    "- Try nesting if statements for more complex conditions."
   ]
  }
 ],
 "metadata": {
  "language_info": {
   "name": "python"
  }
 },
 "nbformat": 4,
 "nbformat_minor": 5
}

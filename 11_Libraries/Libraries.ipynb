{
 "cells": [
  {
   "cell_type": "markdown",
   "id": "e02544e1",
   "metadata": {},
   "source": [
    "# Popular Python Libraries\n",
    "\n",
    "Python's ecosystem includes many powerful libraries for data analysis, visualization, machine learning, and more.\n",
    "\n",
    "---\n",
    "\n",
    "## NumPy: Numerical Computing\n",
    "- Efficient array operations\n",
    "- Mathematical functions\n",
    "- Linear algebra, statistics, and more"
   ]
  },
  {
   "cell_type": "code",
   "execution_count": null,
   "id": "f88ea059",
   "metadata": {},
   "outputs": [],
   "source": [
    "import numpy as np\n",
    "arr = np.array([1, 2, 3])\n",
    "print(arr)\n",
    "print(arr.mean())"
   ]
  },
  {
   "cell_type": "markdown",
   "id": "1b9c6c54",
   "metadata": {},
   "source": [
    "## pandas: Data Analysis\n",
    "- DataFrames for tabular data\n",
    "- Data cleaning, filtering, and aggregation\n",
    "- Reading/writing CSV, Excel, SQL, etc."
   ]
  },
  {
   "cell_type": "code",
   "execution_count": null,
   "id": "83d9c186",
   "metadata": {},
   "outputs": [],
   "source": [
    "import pandas as pd\n",
    "df = pd.DataFrame({\"A\": [1, 2], \"B\": [3, 4]})\n",
    "print(df)"
   ]
  },
  {
   "cell_type": "markdown",
   "id": "e5663d65",
   "metadata": {},
   "source": [
    "## matplotlib: Plotting\n",
    "- Create static, animated, and interactive plots\n",
    "- Highly customizable"
   ]
  },
  {
   "cell_type": "code",
   "execution_count": null,
   "id": "60b1b221",
   "metadata": {},
   "outputs": [],
   "source": [
    "import matplotlib.pyplot as plt\n",
    "plt.plot([1, 2, 3], [4, 5, 6])\n",
    "plt.title(\"Simple Plot\")\n",
    "plt.show()"
   ]
  },
  {
   "cell_type": "markdown",
   "id": "a6075878",
   "metadata": {},
   "source": [
    "## Other Useful Libraries\n",
    "- `requests`: HTTP requests\n",
    "- `scikit-learn`: Machine learning\n",
    "- `flask`: Web development\n",
    "\n",
    "---\n",
    "\n",
    "# Practice\n",
    "- Create a NumPy array and calculate its mean.\n",
    "- Load a CSV file into a pandas DataFrame and display the first 5 rows.\n",
    "- Plot a simple line chart with matplotlib."
   ]
  }
 ],
 "metadata": {
  "language_info": {
   "name": "python"
  }
 },
 "nbformat": 4,
 "nbformat_minor": 5
}
